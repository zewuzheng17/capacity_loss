{
 "cells": [
  {
   "cell_type": "code",
   "execution_count": 132,
   "metadata": {
    "collapsed": true
   },
   "outputs": [],
   "source": [
    "import torch\n",
    "from algorithm.atari_network import Rainbow"
   ]
  },
  {
   "cell_type": "code",
   "execution_count": 153,
   "outputs": [],
   "source": [
    "net = Rainbow(\n",
    "        *(4,78,78),\n",
    "        10,\n",
    "        51,\n",
    "        0.1,\n",
    "        'cpu',\n",
    "        is_dueling=True,\n",
    "        is_noisy=True,\n",
    "        add_infer = True,\n",
    "        infer_multi_head_num = 10,\n",
    "        infer_output_dim = 10\n",
    "    )"
   ],
   "metadata": {
    "collapsed": false
   }
  },
  {
   "cell_type": "code",
   "execution_count": 138,
   "outputs": [
    {
     "data": {
      "text/plain": "odict_keys(['net.0.weight', 'net.0.bias', 'net.2.weight', 'net.2.bias', 'net.4.weight', 'net.4.bias', 'q_representation.mu_W', 'q_representation.sigma_W', 'q_representation.mu_bias', 'q_representation.sigma_bias', 'q_representation.eps_p', 'q_representation.eps_q', 'Q.1.mu_W', 'Q.1.sigma_W', 'Q.1.mu_bias', 'Q.1.sigma_bias', 'Q.1.eps_p', 'Q.1.eps_q', 'V.0.mu_W', 'V.0.sigma_W', 'V.0.mu_bias', 'V.0.sigma_bias', 'V.0.eps_p', 'V.0.eps_q', 'V.2.mu_W', 'V.2.sigma_W', 'V.2.mu_bias', 'V.2.sigma_bias', 'V.2.eps_p', 'V.2.eps_q', 'multi_head_output.weight', 'multi_head_output.bias'])"
     },
     "execution_count": 138,
     "metadata": {},
     "output_type": "execute_result"
    }
   ],
   "source": [
    "net.state_dict().keys()"
   ],
   "metadata": {
    "collapsed": false
   }
  },
  {
   "cell_type": "code",
   "execution_count": 139,
   "outputs": [],
   "source": [
    "net1 = Rainbow(\n",
    "        *(4,78,78),\n",
    "        10,\n",
    "        51,\n",
    "        0.1,\n",
    "        'cpu',\n",
    "        is_dueling=True,\n",
    "        is_noisy=True,\n",
    "        add_infer = False,\n",
    "        infer_multi_head_num = 10,\n",
    "        infer_output_dim = 10\n",
    "    )"
   ],
   "metadata": {
    "collapsed": false
   }
  },
  {
   "cell_type": "code",
   "execution_count": 155,
   "outputs": [],
   "source": [
    "input = torch.ones(size=(128, 4,78,78))"
   ],
   "metadata": {
    "collapsed": false
   }
  },
  {
   "cell_type": "code",
   "execution_count": 156,
   "outputs": [],
   "source": [
    "output,_,_,_ = net(input)"
   ],
   "metadata": {
    "collapsed": false
   }
  },
  {
   "cell_type": "code",
   "execution_count": 163,
   "outputs": [
    {
     "data": {
      "text/plain": "torch.Size([128, 10, 51])"
     },
     "execution_count": 163,
     "metadata": {},
     "output_type": "execute_result"
    }
   ],
   "source": [
    "import numpy as np\n",
    "output.shape"
   ],
   "metadata": {
    "collapsed": false
   }
  },
  {
   "cell_type": "code",
   "execution_count": 168,
   "outputs": [
    {
     "data": {
      "text/plain": "torch.Size([128, 1, 51])"
     },
     "execution_count": 168,
     "metadata": {},
     "output_type": "execute_result"
    }
   ],
   "source": [
    "output[:, 1, :].unsqueeze(1).shape"
   ],
   "metadata": {
    "collapsed": false
   }
  },
  {
   "cell_type": "code",
   "execution_count": 170,
   "outputs": [
    {
     "name": "stderr",
     "output_type": "stream",
     "text": [
      "100%|██████████| 10/10 [00:00<00:00, 67650.06it/s]"
     ]
    },
    {
     "name": "stdout",
     "output_type": "stream",
     "text": [
      "inside\n",
      "inside\n",
      "inside\n",
      "inside\n",
      "inside\n",
      "inside\n",
      "inside\n",
      "inside\n",
      "inside\n",
      "inside\n",
      "inter\n",
      "outside\n"
     ]
    },
    {
     "name": "stderr",
     "output_type": "stream",
     "text": [
      "\n"
     ]
    }
   ],
   "source": [
    "from tqdm import tqdm\n",
    "\n",
    "with tqdm(\n",
    "        total=10\n",
    ") as t:\n",
    "        while t.n < t.total:\n",
    "                t.update(1)\n",
    "                print(\"inside\")\n",
    "        print(\"inter\")\n",
    "print(\"outside\")"
   ],
   "metadata": {
    "collapsed": false
   }
  }
 ],
 "metadata": {
  "kernelspec": {
   "display_name": "Python 3",
   "language": "python",
   "name": "python3"
  },
  "language_info": {
   "codemirror_mode": {
    "name": "ipython",
    "version": 2
   },
   "file_extension": ".py",
   "mimetype": "text/x-python",
   "name": "python",
   "nbconvert_exporter": "python",
   "pygments_lexer": "ipython2",
   "version": "2.7.6"
  }
 },
 "nbformat": 4,
 "nbformat_minor": 0
}
